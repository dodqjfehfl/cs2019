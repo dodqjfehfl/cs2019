{
  "nbformat": 4,
  "nbformat_minor": 0,
  "metadata": {
    "colab": {
      "name": "Untitled1.ipynb",
      "provenance": [],
      "collapsed_sections": [],
      "authorship_tag": "ABX9TyOI7YGQOnvVJlqvGwFqsWLw",
      "include_colab_link": true
    },
    "kernelspec": {
      "name": "python3",
      "display_name": "Python 3"
    }
  },
  "cells": [
    {
      "cell_type": "markdown",
      "metadata": {
        "id": "view-in-github",
        "colab_type": "text"
      },
      "source": [
        "<a href=\"https://colab.research.google.com/github/dodqjfehfl/cs2019/blob/master/SWchatbot_day02.ipynb\" target=\"_parent\"><img src=\"https://colab.research.google.com/assets/colab-badge.svg\" alt=\"Open In Colab\"/></a>"
      ]
    },
    {
      "cell_type": "code",
      "metadata": {
        "id": "MKJrLLq7E__f",
        "colab_type": "code",
        "colab": {
          "base_uri": "https://localhost:8080/",
          "height": 593
        },
        "outputId": "3da89765-0592-42da-cf44-3076c48a030b"
      },
      "source": [
        "import pandas as pd\n",
        "\n",
        "data=['2016','2017','2018','2019']\n",
        "result=pd.Series(data)\n",
        "\n",
        "print(result)\n",
        "\n",
        "print(result.index)\n",
        "print(result.values)\n",
        "\n",
        "result.name='Year'\n",
        "print(result)\n",
        "\n",
        "result.index.name='No'\n",
        "print(result)\n",
        "\n",
        "result=pd.Series(data,index=['a','b','c','d'])\n",
        "\n",
        "print(result)\n",
        "\n",
        "score={'Kim':85,'Hwang':100,'Lee':99,'Choi':80}\n",
        "result=pd.Series(score)\n",
        "\n",
        "print(result)\n",
        "\n",
        "print(result.index)\n",
        "print(result.values)\n",
        "\n",
        "print(result['Lee'])\n",
        "print(result['Hwang'])"
      ],
      "execution_count": 9,
      "outputs": [
        {
          "output_type": "stream",
          "text": [
            "0    2016\n",
            "1    2017\n",
            "2    2018\n",
            "3    2019\n",
            "dtype: object\n",
            "RangeIndex(start=0, stop=4, step=1)\n",
            "['2016' '2017' '2018' '2019']\n",
            "0    2016\n",
            "1    2017\n",
            "2    2018\n",
            "3    2019\n",
            "Name: Year, dtype: object\n",
            "No\n",
            "0    2016\n",
            "1    2017\n",
            "2    2018\n",
            "3    2019\n",
            "Name: Year, dtype: object\n",
            "a    2016\n",
            "b    2017\n",
            "c    2018\n",
            "d    2019\n",
            "dtype: object\n",
            "Kim       85\n",
            "Hwang    100\n",
            "Lee       99\n",
            "Choi      80\n",
            "dtype: int64\n",
            "Index(['Kim', 'Hwang', 'Lee', 'Choi'], dtype='object')\n",
            "[ 85 100  99  80]\n",
            "99\n",
            "100\n"
          ],
          "name": "stdout"
        }
      ]
    }
  ]
}